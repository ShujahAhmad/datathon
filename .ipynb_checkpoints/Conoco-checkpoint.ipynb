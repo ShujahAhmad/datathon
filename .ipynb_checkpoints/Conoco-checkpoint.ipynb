{
 "cells": [
  {
   "cell_type": "code",
   "execution_count": 80,
   "metadata": {},
   "outputs": [],
   "source": [
    "import pandas as pd\n",
    "import seaborn as sns; sns.set(style=\"ticks\", color_codes=True)\n",
    "import matplotlib.pyplot as plt\n",
    "import numpy as np\n",
    "from sklearn.neighbors import KNeighborsRegressor as knn\n",
    "from sklearn.metrics import mean_squared_error as mse"
   ]
  },
  {
   "cell_type": "code",
   "execution_count": 47,
   "metadata": {},
   "outputs": [
    {
     "data": {
      "text/html": [
       "<div>\n",
       "<style scoped>\n",
       "    .dataframe tbody tr th:only-of-type {\n",
       "        vertical-align: middle;\n",
       "    }\n",
       "\n",
       "    .dataframe tbody tr th {\n",
       "        vertical-align: top;\n",
       "    }\n",
       "\n",
       "    .dataframe thead th {\n",
       "        text-align: right;\n",
       "    }\n",
       "</style>\n",
       "<table border=\"1\" class=\"dataframe\">\n",
       "  <thead>\n",
       "    <tr style=\"text-align: right;\">\n",
       "      <th></th>\n",
       "      <th>id</th>\n",
       "      <th>target</th>\n",
       "      <th>sensor1_measure</th>\n",
       "      <th>sensor2_measure</th>\n",
       "      <th>sensor3_measure</th>\n",
       "      <th>sensor4_measure</th>\n",
       "      <th>sensor5_measure</th>\n",
       "      <th>sensor6_measure</th>\n",
       "      <th>sensor7_histogram_bin0</th>\n",
       "      <th>sensor7_histogram_bin1</th>\n",
       "      <th>...</th>\n",
       "      <th>sensor105_histogram_bin2</th>\n",
       "      <th>sensor105_histogram_bin3</th>\n",
       "      <th>sensor105_histogram_bin4</th>\n",
       "      <th>sensor105_histogram_bin5</th>\n",
       "      <th>sensor105_histogram_bin6</th>\n",
       "      <th>sensor105_histogram_bin7</th>\n",
       "      <th>sensor105_histogram_bin8</th>\n",
       "      <th>sensor105_histogram_bin9</th>\n",
       "      <th>sensor106_measure</th>\n",
       "      <th>sensor107_measure</th>\n",
       "    </tr>\n",
       "  </thead>\n",
       "  <tbody>\n",
       "    <tr>\n",
       "      <th>0</th>\n",
       "      <td>1</td>\n",
       "      <td>0</td>\n",
       "      <td>76698</td>\n",
       "      <td>NaN</td>\n",
       "      <td>2.130706e+09</td>\n",
       "      <td>280.0</td>\n",
       "      <td>0.0</td>\n",
       "      <td>0.0</td>\n",
       "      <td>0.0</td>\n",
       "      <td>0.0</td>\n",
       "      <td>...</td>\n",
       "      <td>1240520.0</td>\n",
       "      <td>493384.0</td>\n",
       "      <td>721044.0</td>\n",
       "      <td>469792.0</td>\n",
       "      <td>339156.0</td>\n",
       "      <td>157956.0</td>\n",
       "      <td>73224.0</td>\n",
       "      <td>0.0</td>\n",
       "      <td>0.0</td>\n",
       "      <td>0.0</td>\n",
       "    </tr>\n",
       "    <tr>\n",
       "      <th>1</th>\n",
       "      <td>2</td>\n",
       "      <td>0</td>\n",
       "      <td>33058</td>\n",
       "      <td>NaN</td>\n",
       "      <td>0.000000e+00</td>\n",
       "      <td>NaN</td>\n",
       "      <td>0.0</td>\n",
       "      <td>0.0</td>\n",
       "      <td>0.0</td>\n",
       "      <td>0.0</td>\n",
       "      <td>...</td>\n",
       "      <td>421400.0</td>\n",
       "      <td>178064.0</td>\n",
       "      <td>293306.0</td>\n",
       "      <td>245416.0</td>\n",
       "      <td>133654.0</td>\n",
       "      <td>81140.0</td>\n",
       "      <td>97576.0</td>\n",
       "      <td>1500.0</td>\n",
       "      <td>0.0</td>\n",
       "      <td>0.0</td>\n",
       "    </tr>\n",
       "    <tr>\n",
       "      <th>2</th>\n",
       "      <td>3</td>\n",
       "      <td>0</td>\n",
       "      <td>41040</td>\n",
       "      <td>NaN</td>\n",
       "      <td>2.280000e+02</td>\n",
       "      <td>100.0</td>\n",
       "      <td>0.0</td>\n",
       "      <td>0.0</td>\n",
       "      <td>0.0</td>\n",
       "      <td>0.0</td>\n",
       "      <td>...</td>\n",
       "      <td>277378.0</td>\n",
       "      <td>159812.0</td>\n",
       "      <td>423992.0</td>\n",
       "      <td>409564.0</td>\n",
       "      <td>320746.0</td>\n",
       "      <td>158022.0</td>\n",
       "      <td>95128.0</td>\n",
       "      <td>514.0</td>\n",
       "      <td>0.0</td>\n",
       "      <td>0.0</td>\n",
       "    </tr>\n",
       "    <tr>\n",
       "      <th>3</th>\n",
       "      <td>4</td>\n",
       "      <td>0</td>\n",
       "      <td>12</td>\n",
       "      <td>0.0</td>\n",
       "      <td>7.000000e+01</td>\n",
       "      <td>66.0</td>\n",
       "      <td>0.0</td>\n",
       "      <td>10.0</td>\n",
       "      <td>0.0</td>\n",
       "      <td>0.0</td>\n",
       "      <td>...</td>\n",
       "      <td>240.0</td>\n",
       "      <td>46.0</td>\n",
       "      <td>58.0</td>\n",
       "      <td>44.0</td>\n",
       "      <td>10.0</td>\n",
       "      <td>0.0</td>\n",
       "      <td>0.0</td>\n",
       "      <td>0.0</td>\n",
       "      <td>4.0</td>\n",
       "      <td>32.0</td>\n",
       "    </tr>\n",
       "    <tr>\n",
       "      <th>4</th>\n",
       "      <td>5</td>\n",
       "      <td>0</td>\n",
       "      <td>60874</td>\n",
       "      <td>NaN</td>\n",
       "      <td>1.368000e+03</td>\n",
       "      <td>458.0</td>\n",
       "      <td>0.0</td>\n",
       "      <td>0.0</td>\n",
       "      <td>0.0</td>\n",
       "      <td>0.0</td>\n",
       "      <td>...</td>\n",
       "      <td>622012.0</td>\n",
       "      <td>229790.0</td>\n",
       "      <td>405298.0</td>\n",
       "      <td>347188.0</td>\n",
       "      <td>286954.0</td>\n",
       "      <td>311560.0</td>\n",
       "      <td>433954.0</td>\n",
       "      <td>1218.0</td>\n",
       "      <td>0.0</td>\n",
       "      <td>0.0</td>\n",
       "    </tr>\n",
       "    <tr>\n",
       "      <th>5</th>\n",
       "      <td>6</td>\n",
       "      <td>0</td>\n",
       "      <td>38312</td>\n",
       "      <td>NaN</td>\n",
       "      <td>2.130706e+09</td>\n",
       "      <td>218.0</td>\n",
       "      <td>0.0</td>\n",
       "      <td>0.0</td>\n",
       "      <td>0.0</td>\n",
       "      <td>0.0</td>\n",
       "      <td>...</td>\n",
       "      <td>388574.0</td>\n",
       "      <td>288278.0</td>\n",
       "      <td>900430.0</td>\n",
       "      <td>300412.0</td>\n",
       "      <td>1534.0</td>\n",
       "      <td>338.0</td>\n",
       "      <td>856.0</td>\n",
       "      <td>0.0</td>\n",
       "      <td>0.0</td>\n",
       "      <td>0.0</td>\n",
       "    </tr>\n",
       "    <tr>\n",
       "      <th>6</th>\n",
       "      <td>7</td>\n",
       "      <td>0</td>\n",
       "      <td>14</td>\n",
       "      <td>0.0</td>\n",
       "      <td>6.000000e+00</td>\n",
       "      <td>NaN</td>\n",
       "      <td>0.0</td>\n",
       "      <td>0.0</td>\n",
       "      <td>0.0</td>\n",
       "      <td>0.0</td>\n",
       "      <td>...</td>\n",
       "      <td>168.0</td>\n",
       "      <td>48.0</td>\n",
       "      <td>60.0</td>\n",
       "      <td>28.0</td>\n",
       "      <td>0.0</td>\n",
       "      <td>0.0</td>\n",
       "      <td>0.0</td>\n",
       "      <td>0.0</td>\n",
       "      <td>0.0</td>\n",
       "      <td>0.0</td>\n",
       "    </tr>\n",
       "    <tr>\n",
       "      <th>7</th>\n",
       "      <td>8</td>\n",
       "      <td>0</td>\n",
       "      <td>102960</td>\n",
       "      <td>NaN</td>\n",
       "      <td>2.130706e+09</td>\n",
       "      <td>116.0</td>\n",
       "      <td>0.0</td>\n",
       "      <td>0.0</td>\n",
       "      <td>0.0</td>\n",
       "      <td>0.0</td>\n",
       "      <td>...</td>\n",
       "      <td>715518.0</td>\n",
       "      <td>384948.0</td>\n",
       "      <td>915978.0</td>\n",
       "      <td>1052166.0</td>\n",
       "      <td>1108672.0</td>\n",
       "      <td>341532.0</td>\n",
       "      <td>129504.0</td>\n",
       "      <td>7832.0</td>\n",
       "      <td>0.0</td>\n",
       "      <td>0.0</td>\n",
       "    </tr>\n",
       "    <tr>\n",
       "      <th>8</th>\n",
       "      <td>9</td>\n",
       "      <td>0</td>\n",
       "      <td>78696</td>\n",
       "      <td>NaN</td>\n",
       "      <td>0.000000e+00</td>\n",
       "      <td>NaN</td>\n",
       "      <td>0.0</td>\n",
       "      <td>0.0</td>\n",
       "      <td>0.0</td>\n",
       "      <td>0.0</td>\n",
       "      <td>...</td>\n",
       "      <td>699290.0</td>\n",
       "      <td>362510.0</td>\n",
       "      <td>1190028.0</td>\n",
       "      <td>1012704.0</td>\n",
       "      <td>160090.0</td>\n",
       "      <td>63216.0</td>\n",
       "      <td>41202.0</td>\n",
       "      <td>4.0</td>\n",
       "      <td>0.0</td>\n",
       "      <td>0.0</td>\n",
       "    </tr>\n",
       "    <tr>\n",
       "      <th>9</th>\n",
       "      <td>10</td>\n",
       "      <td>1</td>\n",
       "      <td>153204</td>\n",
       "      <td>0.0</td>\n",
       "      <td>1.820000e+02</td>\n",
       "      <td>NaN</td>\n",
       "      <td>0.0</td>\n",
       "      <td>0.0</td>\n",
       "      <td>0.0</td>\n",
       "      <td>0.0</td>\n",
       "      <td>...</td>\n",
       "      <td>129862.0</td>\n",
       "      <td>26872.0</td>\n",
       "      <td>34044.0</td>\n",
       "      <td>22472.0</td>\n",
       "      <td>34362.0</td>\n",
       "      <td>0.0</td>\n",
       "      <td>0.0</td>\n",
       "      <td>0.0</td>\n",
       "      <td>0.0</td>\n",
       "      <td>0.0</td>\n",
       "    </tr>\n",
       "  </tbody>\n",
       "</table>\n",
       "<p>10 rows × 172 columns</p>\n",
       "</div>"
      ],
      "text/plain": [
       "   id  target  sensor1_measure  sensor2_measure  sensor3_measure  \\\n",
       "0   1       0            76698              NaN     2.130706e+09   \n",
       "1   2       0            33058              NaN     0.000000e+00   \n",
       "2   3       0            41040              NaN     2.280000e+02   \n",
       "3   4       0               12              0.0     7.000000e+01   \n",
       "4   5       0            60874              NaN     1.368000e+03   \n",
       "5   6       0            38312              NaN     2.130706e+09   \n",
       "6   7       0               14              0.0     6.000000e+00   \n",
       "7   8       0           102960              NaN     2.130706e+09   \n",
       "8   9       0            78696              NaN     0.000000e+00   \n",
       "9  10       1           153204              0.0     1.820000e+02   \n",
       "\n",
       "   sensor4_measure  sensor5_measure  sensor6_measure  sensor7_histogram_bin0  \\\n",
       "0            280.0              0.0              0.0                     0.0   \n",
       "1              NaN              0.0              0.0                     0.0   \n",
       "2            100.0              0.0              0.0                     0.0   \n",
       "3             66.0              0.0             10.0                     0.0   \n",
       "4            458.0              0.0              0.0                     0.0   \n",
       "5            218.0              0.0              0.0                     0.0   \n",
       "6              NaN              0.0              0.0                     0.0   \n",
       "7            116.0              0.0              0.0                     0.0   \n",
       "8              NaN              0.0              0.0                     0.0   \n",
       "9              NaN              0.0              0.0                     0.0   \n",
       "\n",
       "   sensor7_histogram_bin1  ...  sensor105_histogram_bin2  \\\n",
       "0                     0.0  ...                 1240520.0   \n",
       "1                     0.0  ...                  421400.0   \n",
       "2                     0.0  ...                  277378.0   \n",
       "3                     0.0  ...                     240.0   \n",
       "4                     0.0  ...                  622012.0   \n",
       "5                     0.0  ...                  388574.0   \n",
       "6                     0.0  ...                     168.0   \n",
       "7                     0.0  ...                  715518.0   \n",
       "8                     0.0  ...                  699290.0   \n",
       "9                     0.0  ...                  129862.0   \n",
       "\n",
       "   sensor105_histogram_bin3  sensor105_histogram_bin4  \\\n",
       "0                  493384.0                  721044.0   \n",
       "1                  178064.0                  293306.0   \n",
       "2                  159812.0                  423992.0   \n",
       "3                      46.0                      58.0   \n",
       "4                  229790.0                  405298.0   \n",
       "5                  288278.0                  900430.0   \n",
       "6                      48.0                      60.0   \n",
       "7                  384948.0                  915978.0   \n",
       "8                  362510.0                 1190028.0   \n",
       "9                   26872.0                   34044.0   \n",
       "\n",
       "   sensor105_histogram_bin5  sensor105_histogram_bin6  \\\n",
       "0                  469792.0                  339156.0   \n",
       "1                  245416.0                  133654.0   \n",
       "2                  409564.0                  320746.0   \n",
       "3                      44.0                      10.0   \n",
       "4                  347188.0                  286954.0   \n",
       "5                  300412.0                    1534.0   \n",
       "6                      28.0                       0.0   \n",
       "7                 1052166.0                 1108672.0   \n",
       "8                 1012704.0                  160090.0   \n",
       "9                   22472.0                   34362.0   \n",
       "\n",
       "   sensor105_histogram_bin7  sensor105_histogram_bin8  \\\n",
       "0                  157956.0                   73224.0   \n",
       "1                   81140.0                   97576.0   \n",
       "2                  158022.0                   95128.0   \n",
       "3                       0.0                       0.0   \n",
       "4                  311560.0                  433954.0   \n",
       "5                     338.0                     856.0   \n",
       "6                       0.0                       0.0   \n",
       "7                  341532.0                  129504.0   \n",
       "8                   63216.0                   41202.0   \n",
       "9                       0.0                       0.0   \n",
       "\n",
       "   sensor105_histogram_bin9  sensor106_measure  sensor107_measure  \n",
       "0                       0.0                0.0                0.0  \n",
       "1                    1500.0                0.0                0.0  \n",
       "2                     514.0                0.0                0.0  \n",
       "3                       0.0                4.0               32.0  \n",
       "4                    1218.0                0.0                0.0  \n",
       "5                       0.0                0.0                0.0  \n",
       "6                       0.0                0.0                0.0  \n",
       "7                    7832.0                0.0                0.0  \n",
       "8                       4.0                0.0                0.0  \n",
       "9                       0.0                0.0                0.0  \n",
       "\n",
       "[10 rows x 172 columns]"
      ]
     },
     "execution_count": 47,
     "metadata": {},
     "output_type": "execute_result"
    }
   ],
   "source": [
    "df = pd.read_csv('equip_failures_training_set.csv', na_values = 'na')\n",
    "\n",
    "df.head(10)"
   ]
  },
  {
   "cell_type": "code",
   "execution_count": 48,
   "metadata": {},
   "outputs": [
    {
     "name": "stdout",
     "output_type": "stream",
     "text": [
      "Number of Equipment Failures: \n"
     ]
    },
    {
     "data": {
      "text/plain": [
       "1000"
      ]
     },
     "execution_count": 48,
     "metadata": {},
     "output_type": "execute_result"
    }
   ],
   "source": [
    "print(\"Number of Equipment Failures: \")\n",
    "df.loc[df.target == 1, \"target\"].count()"
   ]
  },
  {
   "cell_type": "code",
   "execution_count": 49,
   "metadata": {},
   "outputs": [
    {
     "name": "stdout",
     "output_type": "stream",
     "text": [
      "Number of Equipment SUCCESS: \n"
     ]
    },
    {
     "data": {
      "text/plain": [
       "59000"
      ]
     },
     "execution_count": 49,
     "metadata": {},
     "output_type": "execute_result"
    }
   ],
   "source": [
    "print(\"Number of Equipment SUCCESS: \")\n",
    "df.loc[df.target == 0, \"target\"].count()"
   ]
  },
  {
   "cell_type": "code",
   "execution_count": 50,
   "metadata": {},
   "outputs": [],
   "source": [
    "df = df.replace('na', 0)"
   ]
  },
  {
   "cell_type": "code",
   "execution_count": null,
   "metadata": {},
   "outputs": [],
   "source": []
  },
  {
   "cell_type": "code",
   "execution_count": 51,
   "metadata": {},
   "outputs": [
    {
     "data": {
      "image/png": "[encoded data removed]",
      "text/plain": [
       "<Figure size 432x288 with 1 Axes>"
      ]
     },
     "metadata": {
      "needs_background": "light"
     },
     "output_type": "display_data"
    }
   ],
   "source": [
    "plt.scatter(x=df.target, y=df.sensor1_measure)\n",
    "plt.show()"
   ]
  },
  {
   "cell_type": "code",
   "execution_count": 58,
   "metadata": {},
   "outputs": [
    {
     "data": {
      "text/plain": [
       "<seaborn.axisgrid.PairGrid at 0x1a1dce9e48>"
      ]
     },
     "execution_count": 58,
     "metadata": {},
     "output_type": "execute_result"
    },
    {
     "data": {
      "image/png": "[encoded data removed]",
      "text/plain": [
       "<Figure size 945.725x900 with 30 Axes>"
      ]
     },
     "metadata": {
      "needs_background": "light"
     },
     "output_type": "display_data"
    }
   ],
   "source": [
    "df.fillna(0, inplace=True)\n",
    "\n",
    "sns.pairplot(df, x_vars=[\"sensor1_measure\", \"sensor2_measure\",\"sensor3_measure\", \"sensor4_measure\", \"sensor5_measure\"], \n",
    "             y_vars=[\"sensor1_measure\", \"sensor2_measure\", \"sensor3_measure\", \"sensor4_measure\", \"sensor5_measure\"],\n",
    "             hue='target')\n",
    "    "
   ]
  },
  {
   "cell_type": "code",
   "execution_count": 82,
   "metadata": {},
   "outputs": [],
   "source": [
    "# split data 70/30\n",
    "msk = np.random.rand(len(df)) < 0.8\n",
    "\n",
    "train = df[msk]\n",
    "\n",
    "test = df[~msk]"
   ]
  },
  {
   "cell_type": "code",
   "execution_count": 85,
   "metadata": {},
   "outputs": [
    {
     "data": {
      "text/plain": [
       "KNeighborsRegressor(algorithm='auto', leaf_size=30, metric='minkowski',\n",
       "                    metric_params=None, n_jobs=None, n_neighbors=5, p=2,\n",
       "                    weights='uniform')"
      ]
     },
     "execution_count": 85,
     "metadata": {},
     "output_type": "execute_result"
    }
   ],
   "source": [
    "# knn = knn()\n",
    "\n",
    "knn.fit(X=train.iloc[:,2:],y=train.iloc[:,1])"
   ]
  },
  {
   "cell_type": "code",
   "execution_count": null,
   "metadata": {},
   "outputs": [],
   "source": [
    "result = knn.predict(df.)"
   ]
  }
 ],
 "metadata": {
  "kernelspec": {
   "display_name": "Python 3",
   "language": "python",
   "name": "python3"
  },
  "language_info": {
   "codemirror_mode": {
    "name": "ipython",
    "version": 3
   },
   "file_extension": ".py",
   "mimetype": "text/x-python",
   "name": "python",
   "nbconvert_exporter": "python",
   "pygments_lexer": "ipython3",
   "version": "3.7.3"
  }
 },
 "nbformat": 4,
 "nbformat_minor": 2
}
